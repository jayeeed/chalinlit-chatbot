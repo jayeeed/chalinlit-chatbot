{
 "cells": [
  {
   "cell_type": "code",
   "execution_count": 11,
   "metadata": {},
   "outputs": [],
   "source": [
    "import os\n",
    "import anthropic\n",
    "from IPython.display import Markdown, display\n",
    "\n",
    "api_key=\"key\"\n",
    "\n",
    "client = anthropic.Anthropic(api_key=api_key)"
   ]
  },
  {
   "cell_type": "code",
   "execution_count": null,
   "metadata": {},
   "outputs": [],
   "source": [
    "from anthropic import HUMAN_PROMPT, AI_PROMPT\n",
    "\n",
    "completion = client.completions.create(\n",
    "    model=\"claude-3-opus-20240229\",\n",
    "    max_tokens_to_sample=300,\n",
    "    prompt=f\"{HUMAN_PROMPT} How do I cook a original pasta?{AI_PROMPT}\",\n",
    ")\n",
    "Markdown(completion.completion)"
   ]
  },
  {
   "cell_type": "code",
   "execution_count": null,
   "metadata": {},
   "outputs": [],
   "source": [
    "Prompt = \"Write the Julia code for the simple data analysis.\"\n",
    "message = client.messages.create(\n",
    "    model=\"claude-3-opus-20240229\",\n",
    "    max_tokens=1024,\n",
    "    messages=[\n",
    "        {\"role\": \"user\", \"content\": Prompt}\n",
    "    ]\n",
    ")\n",
    "Markdown(message.content[0].text)"
   ]
  },
  {
   "cell_type": "code",
   "execution_count": null,
   "metadata": {},
   "outputs": [],
   "source": [
    "client = anthropic.Anthropic(\n",
    "    api_key=api_key,\n",
    ")\n",
    "\n",
    "Prompt = \"Write a blog about neural networks.\"\n",
    "\n",
    "message = client.messages.create(\n",
    "    model=\"claude-3-opus-20240229\",\n",
    "    max_tokens=1024,\n",
    "    system=\"Respond only in Bangla 50 words.\",\n",
    "    messages=[\n",
    "        {\"role\": \"user\", \"content\": Prompt} \n",
    "    ]\n",
    ")\n",
    "\n",
    "Markdown(message.content[0].text)"
   ]
  },
  {
   "cell_type": "code",
   "execution_count": null,
   "metadata": {},
   "outputs": [],
   "source": [
    "import asyncio\n",
    "from anthropic import AsyncAnthropic\n",
    "\n",
    "client = AsyncAnthropic(\n",
    "    api_key=api_key,\n",
    ")\n",
    "\n",
    "\n",
    "async def main() -> None:\n",
    "\n",
    "    Prompt = \"What is LLMOps and how do I start learning it?\"\n",
    "        \n",
    "    message = await client.messages.create(\n",
    "        max_tokens=1024,\n",
    "        messages=[\n",
    "            {\n",
    "                \"role\": \"user\",\n",
    "                \"content\": Prompt,\n",
    "            }\n",
    "        ],\n",
    "        model=\"claude-3-opus-20240229\",\n",
    "    )\n",
    "    display(Markdown(message.content[0].text))\n",
    "\n",
    "\n",
    "await main()"
   ]
  },
  {
   "cell_type": "code",
   "execution_count": null,
   "metadata": {},
   "outputs": [],
   "source": [
    "from anthropic import Anthropic\n",
    "\n",
    "client = anthropic.Anthropic(\n",
    "    api_key=api_key\n",
    ")\n",
    "\n",
    "\n",
    "Prompt = \"Write a mermaid code for typical MLOps workflow.\"\n",
    "\n",
    "\n",
    "completion = client.messages.stream(\n",
    "    max_tokens=1024,\n",
    "    messages=[\n",
    "        {\n",
    "            \"role\": \"user\",\n",
    "            \"content\": Prompt,\n",
    "        }\n",
    "    ],\n",
    "    model=\"claude-3-opus-20240229\",\n",
    ")\n",
    "\n",
    "with completion as stream:\n",
    "    for text in stream.text_stream:\n",
    "            print(text, end=\"\", flush=True)"
   ]
  },
  {
   "cell_type": "code",
   "execution_count": null,
   "metadata": {},
   "outputs": [],
   "source": [
    "import asyncio\n",
    "from anthropic import AsyncAnthropic\n",
    "\n",
    "client = AsyncAnthropic(api_key=api_key)\n",
    "\n",
    "async def main() -> None:\n",
    "    \n",
    "    completion = client.messages.stream(\n",
    "        max_tokens=1024,\n",
    "        messages=[\n",
    "            {\n",
    "                \"role\": \"user\",\n",
    "                \"content\": Prompt,\n",
    "            }\n",
    "        ],\n",
    "        model=\"claude-3-opus-20240229\",\n",
    "    )\n",
    "    async with completion as stream:\n",
    "        async for text in stream.text_stream:\n",
    "            print(text, end=\"\", flush=True)\n",
    "\n",
    "await main()"
   ]
  },
  {
   "cell_type": "code",
   "execution_count": 23,
   "metadata": {},
   "outputs": [],
   "source": [
    "import anthropic\n",
    "import base64\n",
    "import httpx\n",
    "\n",
    "client = anthropic.Anthropic(api_key=api_key)\n",
    "\n",
    "media_type = \"image/jpeg\"\n",
    "\n",
    "img_url_1 = \"https://images.pexels.com/photos/20230232/pexels-photo-20230232/free-photo-of-tulips-in-a-vase-against-a-green-background.jpeg\"\n",
    "\n",
    "image_data_1 = base64.b64encode(httpx.get(img_url_1).content).decode(\"utf-8\")\n",
    "\n",
    "img_url_2 = \"https://images.pexels.com/photos/20255306/pexels-photo-20255306/free-photo-of-flamingos-in-the-water.jpeg\"\n",
    "\n",
    "image_data_2 = base64.b64encode(httpx.get(img_url_2).content).decode(\"utf-8\")"
   ]
  },
  {
   "cell_type": "code",
   "execution_count": 24,
   "metadata": {},
   "outputs": [
    {
     "data": {
      "text/markdown": [
       "Tulips stand tall, a vibrant sight,\n",
       "Red and yellow, colors so bright.\n",
       "Against a backdrop of emerald green,\n",
       "A springtime wonder, a floral scene.\n",
       "\n",
       "Petals unfurled, reaching for the sun,\n",
       "Nature's artistry, a masterpiece begun.\n",
       "Graceful stems sway in the breeze,\n",
       "A dance of beauty, the eye to please.\n",
       "\n",
       "In a sea of green, they proudly rise,\n",
       "Capturing hearts and dazzling eyes.\n",
       "Each bloom unique, yet part of the whole,\n",
       "A testament to life, a story untold.\n",
       "\n",
       "Tulips, a symbol of hope and renewal,\n",
       "Their presence a joy, a promise so true.\n",
       "In the garden, they reign supreme,\n",
       "A living poem, a colorful dream."
      ],
      "text/plain": [
       "<IPython.core.display.Markdown object>"
      ]
     },
     "execution_count": 24,
     "metadata": {},
     "output_type": "execute_result"
    }
   ],
   "source": [
    "message = client.messages.create(\n",
    "    model=\"claude-3-opus-20240229\",\n",
    "    max_tokens=1024,\n",
    "    messages=[\n",
    "        {\n",
    "            \"role\": \"user\",\n",
    "            \"content\": [\n",
    "                {\n",
    "                    \"type\": \"image\",\n",
    "                    \"source\": {\n",
    "                        \"type\": \"base64\",\n",
    "                        \"media_type\": media_type,\n",
    "                        \"data\": image_data_1,\n",
    "                    },\n",
    "                },\n",
    "                {\n",
    "                    \"type\": \"text\",\n",
    "                    \"text\": \"Write a poem using this image.\"\n",
    "                }\n",
    "            ],\n",
    "        }\n",
    "    ],\n",
    ")\n",
    "Markdown(message.content[0].text)"
   ]
  },
  {
   "cell_type": "code",
   "execution_count": 25,
   "metadata": {},
   "outputs": [],
   "source": [
    "message = client.messages.create(\n",
    "    model=\"claude-3-opus-20240229\",\n",
    "    max_tokens=1024,\n",
    "    messages=[\n",
    "        {\n",
    "            \"role\": \"user\",\n",
    "            \"content\": [\n",
    "                {\n",
    "                    \"type\": \"text\",\n",
    "                    \"text\": \"Image 1:\"\n",
    "                },\n",
    "                {\n",
    "                    \"type\": \"image\",\n",
    "                    \"source\": {\n",
    "                        \"type\": \"base64\",\n",
    "                        \"media_type\": media_type,\n",
    "                        \"data\": image_data_1,\n",
    "                    },\n",
    "                },\n",
    "                {\n",
    "                    \"type\": \"text\",\n",
    "                    \"text\": \"Image 2:\"\n",
    "                },\n",
    "                {\n",
    "                    \"type\": \"image\",\n",
    "                    \"source\": {\n",
    "                        \"type\": \"base64\",\n",
    "                        \"media_type\": media_type,\n",
    "                        \"data\": image_data_2,\n",
    "                    },\n",
    "                },\n",
    "                {\n",
    "                    \"type\": \"text\",\n",
    "                    \"text\": \"Write a short story using these images.\"\n",
    "                }\n",
    "            ],\n",
    "        }\n",
    "    ],\n",
    ")"
   ]
  },
  {
   "cell_type": "code",
   "execution_count": 26,
   "metadata": {},
   "outputs": [
    {
     "data": {
      "text/markdown": [
       "In a tranquil pond, a flock of elegant flamingos gathered, their pink and white feathers glistening in the soft light. They stood on slender legs, gracefully arching their long necks as they preened and socialized.\n",
       "\n",
       "Nearby, a bed of vibrant tulips swayed gently in the breeze, their petals a brilliant display of red and yellow hues. The colors seemed to dance and shimmer, catching the eyes of the flamingos.\n",
       "\n",
       "Intrigued, two of the flamingos wandered closer to the tulip patch, their curiosity piqued by the dazzling blooms. As they approached, they couldn't help but admire the beauty and vitality of the flowers.\n",
       "\n",
       "The tulips, in turn, seemed to respond to the presence of the flamingos, their petals stretching towards the majestic birds as if yearning to touch them. A sense of harmony and connection filled the air, as if nature itself was orchestrating a delightful encounter between these two wonders.\n",
       "\n",
       "Lost in the enchantment of the moment, the flamingos lingered by the tulips, basking in the radiance and energy that surrounded them. They marveled at how two seemingly different aspects of nature could come together in such a captivating display of color, grace, and life.\n",
       "\n",
       "As the day wore on, the flamingos eventually returned to their flock, but the memory of their encounter with the tulips remained etched in their hearts. They carried with them a newfound appreciation for the diverse and wonderful creations that shared their world, and a reminder that beauty can be found in the most unexpected places."
      ],
      "text/plain": [
       "<IPython.core.display.Markdown object>"
      ]
     },
     "execution_count": 26,
     "metadata": {},
     "output_type": "execute_result"
    }
   ],
   "source": [
    "Markdown(message.content[0].text)"
   ]
  }
 ],
 "metadata": {
  "kernelspec": {
   "display_name": "cl",
   "language": "python",
   "name": "python3"
  },
  "language_info": {
   "codemirror_mode": {
    "name": "ipython",
    "version": 3
   },
   "file_extension": ".py",
   "mimetype": "text/x-python",
   "name": "python",
   "nbconvert_exporter": "python",
   "pygments_lexer": "ipython3",
   "version": "3.11.6"
  }
 },
 "nbformat": 4,
 "nbformat_minor": 2
}
